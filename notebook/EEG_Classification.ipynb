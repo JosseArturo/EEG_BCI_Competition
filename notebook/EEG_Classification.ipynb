{
 "cells": [
  {
   "cell_type": "code",
   "execution_count": 242,
   "id": "5b880d28",
   "metadata": {},
   "outputs": [],
   "source": [
    "# -------------------------------------------------- #\n",
    "# EEG Classification Using Convolutional Neural Networks\n",
    "# Jose Garcia\n",
    "# Runninging in Windows OS\\\n",
    "# -------------------------------------------------- #\n",
    "\n",
    "# Import libraries\n",
    "#\n",
    "import numpy as np # linear algebra\n",
    "import pandas as pd # data processing, CSV file I/O (e.g. pd.read_csv)\n",
    "import seaborn as sns\n",
    "import matplotlib.pyplot as plt\n",
    "\n",
    "# Sklearn\n",
    "from sklearn.utils import shuffle\n",
    "from sklearn.model_selection import train_test_split\n",
    "from sklearn.metrics import f1_score\n",
    "from sklearn.metrics import precision_score\n",
    "from sklearn.metrics import recall_score\n",
    "from sklearn.metrics import confusion_matrix,classification_report, accuracy_score\n",
    "\n",
    "# MNE\n",
    "import mne\n",
    "\n",
    "# Pytorch\n",
    "import torch.nn.functional as F\n",
    "import torch\n",
    "import torch.nn as nn \n",
    "import torch.optim as optim\n",
    "from torch.utils.data import DataLoader, Dataset, random_split\n",
    "\n",
    "# Plot configuration - Using scientific library\n",
    "plt.style.use(['science','grid'])\n"
   ]
  },
  {
   "cell_type": "markdown",
   "id": "cb950dd7",
   "metadata": {},
   "source": [
    "# Goal\n",
    "Model to classify motor imagery tasks,"
   ]
  },
  {
   "cell_type": "markdown",
   "id": "24916a15",
   "metadata": {},
   "source": [
    "# 0. Exploratory Data Analysis\n",
    "\n",
    "EEG Data related to Motor Imagery commands. Please go to References to read the paper related to the data"
   ]
  },
  {
   "cell_type": "code",
   "execution_count": 2,
   "id": "3d748655",
   "metadata": {},
   "outputs": [
    {
     "name": "stdout",
     "output_type": "stream",
     "text": [
      "Extracting EDF parameters from C:\\Users\\josea\\Desktop\\SS2023\\Hunting fot Hedonia\\Ceregate\\CereGate - ML-DL Technical Assessment\\data\\BCICIV_2a_gdf\\A01T.gdf...\n",
      "GDF file detected\n",
      "Setting channel info structure...\n",
      "Could not determine channel type of the following channels, they will be set as EEG:\n",
      "EEG-Fz, EEG, EEG, EEG, EEG, EEG, EEG, EEG-C3, EEG, EEG-Cz, EEG, EEG-C4, EEG, EEG, EEG, EEG, EEG, EEG, EEG, EEG-Pz, EEG, EEG\n",
      "Creating raw.info structure...\n"
     ]
    },
    {
     "name": "stderr",
     "output_type": "stream",
     "text": [
      "c:\\users\\josea\\appdata\\local\\programs\\python\\python39\\lib\\site-packages\\mne\\io\\edf\\edf.py:1155: DeprecationWarning: The binary mode of fromstring is deprecated, as it behaves surprisingly on unicode inputs. Use frombuffer instead\n",
      "  etmode = np.fromstring(etmode, UINT8).tolist()[0]\n",
      "c:\\users\\josea\\appdata\\local\\programs\\python\\python39\\lib\\contextlib.py:126: RuntimeWarning: Channel names are not unique, found duplicates for: {'EEG'}. Applying running numbers for duplicates.\n",
      "  next(self.gen)\n"
     ]
    }
   ],
   "source": [
    "# Data reading\n",
    "# EOG channels name\n",
    "eog_channels = ['EOG-left', 'EOG-central', 'EOG-right']\n",
    "\n",
    "# Loading first subject to familirize with the data\n",
    "dataset=mne.io.read_raw_gdf(r'..\\data\\BCICIV_2a_gdf\\A01T.gdf',\n",
    "                         eog=eog_channels)\n",
    "\n",
    "# Split EEG and EOG\n",
    "dataset_eeg = dataset.copy().pick_types(eeg=True)\n",
    "dataset_eog = dataset.copy().pick_types(eog=True)\n"
   ]
  },
  {
   "cell_type": "code",
   "execution_count": 3,
   "id": "77a8f026",
   "metadata": {
    "scrolled": true
   },
   "outputs": [
    {
     "name": "stdout",
     "output_type": "stream",
     "text": [
      "Used Annotations descriptions: ['1023', '1072', '276', '277', '32766', '768', '769', '770', '771', '772']\n",
      "{'1023': 1, '1072': 2, '276': 3, '277': 4, '32766': 5, '768': 6, '769': 7, '770': 8, '771': 9, '772': 10}\n"
     ]
    },
    {
     "data": {
      "text/html": [
       "<div>\n",
       "<style scoped>\n",
       "    .dataframe tbody tr th:only-of-type {\n",
       "        vertical-align: middle;\n",
       "    }\n",
       "\n",
       "    .dataframe tbody tr th {\n",
       "        vertical-align: top;\n",
       "    }\n",
       "\n",
       "    .dataframe thead th {\n",
       "        text-align: right;\n",
       "    }\n",
       "</style>\n",
       "<table border=\"1\" class=\"dataframe\">\n",
       "  <thead>\n",
       "    <tr style=\"text-align: right;\">\n",
       "      <th></th>\n",
       "      <th>Events</th>\n",
       "      <th>Description</th>\n",
       "      <th>Annotations</th>\n",
       "    </tr>\n",
       "  </thead>\n",
       "  <tbody>\n",
       "    <tr>\n",
       "      <th>7</th>\n",
       "      <td>1023</td>\n",
       "      <td>Rejected</td>\n",
       "      <td>1</td>\n",
       "    </tr>\n",
       "    <tr>\n",
       "      <th>8</th>\n",
       "      <td>1072</td>\n",
       "      <td>Eye movements</td>\n",
       "      <td>2</td>\n",
       "    </tr>\n",
       "    <tr>\n",
       "      <th>0</th>\n",
       "      <td>276</td>\n",
       "      <td>Eyes open</td>\n",
       "      <td>3</td>\n",
       "    </tr>\n",
       "    <tr>\n",
       "      <th>1</th>\n",
       "      <td>277</td>\n",
       "      <td>Eyes closed</td>\n",
       "      <td>4</td>\n",
       "    </tr>\n",
       "    <tr>\n",
       "      <th>9</th>\n",
       "      <td>32766</td>\n",
       "      <td>New run</td>\n",
       "      <td>5</td>\n",
       "    </tr>\n",
       "    <tr>\n",
       "      <th>2</th>\n",
       "      <td>768</td>\n",
       "      <td>Start trial</td>\n",
       "      <td>6</td>\n",
       "    </tr>\n",
       "    <tr>\n",
       "      <th>3</th>\n",
       "      <td>769</td>\n",
       "      <td>class_1</td>\n",
       "      <td>7</td>\n",
       "    </tr>\n",
       "    <tr>\n",
       "      <th>4</th>\n",
       "      <td>770</td>\n",
       "      <td>class_2</td>\n",
       "      <td>8</td>\n",
       "    </tr>\n",
       "    <tr>\n",
       "      <th>5</th>\n",
       "      <td>771</td>\n",
       "      <td>class_3</td>\n",
       "      <td>9</td>\n",
       "    </tr>\n",
       "    <tr>\n",
       "      <th>6</th>\n",
       "      <td>772</td>\n",
       "      <td>class_4</td>\n",
       "      <td>10</td>\n",
       "    </tr>\n",
       "  </tbody>\n",
       "</table>\n",
       "</div>"
      ],
      "text/plain": [
       "   Events    Description  Annotations\n",
       "7    1023       Rejected            1\n",
       "8    1072  Eye movements            2\n",
       "0     276      Eyes open            3\n",
       "1     277    Eyes closed            4\n",
       "9   32766        New run            5\n",
       "2     768    Start trial            6\n",
       "3     769        class_1            7\n",
       "4     770        class_2            8\n",
       "5     771        class_3            9\n",
       "6     772        class_4           10"
      ]
     },
     "execution_count": 3,
     "metadata": {},
     "output_type": "execute_result"
    }
   ],
   "source": [
    "# Understanding Events\n",
    "events=mne.events_from_annotations(dataset_eeg)\n",
    "print(events[1])\n",
    "\n",
    "# Create own event dataframe and mapping the data based on the experiment\n",
    "events_labels = [276,277,768,769,770,771,772,1023,1072,32766]\n",
    "event_description = ['Eyes open', 'Eyes closed', 'Start trial','class_1','class_2','class_3','class_4',\\\n",
    "                     'Rejected', 'Eye movements', 'New run']\n",
    "local_anotation = [3,4,6,7,8,9,10,1,2,5]\n",
    "data = {'Events': events_labels,\n",
    "        'Description': event_description,\n",
    "        'Annotations': local_anotation}\n",
    "events_df = pd.DataFrame(data)\n",
    "events_df.sort_values(\"Annotations\")\n",
    "\n"
   ]
  },
  {
   "cell_type": "markdown",
   "id": "30de0dfd",
   "metadata": {},
   "source": [
    "The previous table shows what means each event based on the dataset info"
   ]
  },
  {
   "cell_type": "markdown",
   "id": "a254456e",
   "metadata": {},
   "source": [
    "#### Epoching\n",
    "\n",
    "In a first stage of the proposal the epoching will be done just for the windows where the motor imagery actions were executed. Meaning that I will only take the data label with the events id of 7, 8, 9 and 10. See event table above"
   ]
  },
  {
   "cell_type": "code",
   "execution_count": 210,
   "id": "29b7c58c",
   "metadata": {
    "scrolled": false
   },
   "outputs": [
    {
     "name": "stdout",
     "output_type": "stream",
     "text": [
      "Not setting metadata\n",
      "288 matching events found\n",
      "Setting baseline interval to [-0.2, 0.0] sec\n",
      "Applying baseline correction (mode: mean)\n",
      "0 projection items activated\n",
      "Loading data for 288 events and 176 original time points ...\n",
      "0 bad epochs dropped\n"
     ]
    },
    {
     "data": {
      "text/plain": [
       "(288, 22, 176)"
      ]
     },
     "execution_count": 210,
     "metadata": {},
     "output_type": "execute_result"
    }
   ],
   "source": [
    "# Create Epoch just for the event where the subject is executing one action\n",
    "epochs = mne.Epochs(dataset_eeg, events[0], event_id=[7,8,9,10],  preload=True)\n",
    "epochs.get_data().shape"
   ]
  },
  {
   "cell_type": "markdown",
   "id": "fee61153",
   "metadata": {},
   "source": [
    "It can be seen 288 trials, 22 electrodes, 176 points per trial. \n",
    "288 comes from: 2 sessions, 6 run per session, each run has 48 trials,  12 trials per command ( 4 commands )\n"
   ]
  },
  {
   "cell_type": "markdown",
   "id": "4192138d",
   "metadata": {},
   "source": [
    "### Time domain inspection\n",
    "\n",
    "I would like to see the signals (average)"
   ]
  },
  {
   "cell_type": "code",
   "execution_count": 5,
   "id": "e89ebf03",
   "metadata": {},
   "outputs": [
    {
     "name": "stdout",
     "output_type": "stream",
     "text": [
      "combining channels using \"gfp\"\n",
      "combining channels using \"gfp\"\n",
      "combining channels using \"gfp\"\n",
      "combining channels using \"gfp\"\n"
     ]
    },
    {
     "data": {
      "image/png": "[encoded data removed]",
      "text/plain": [
       "<Figure size 576x432 with 1 Axes>"
      ]
     },
     "metadata": {
      "needs_background": "light"
     },
     "output_type": "display_data"
    },
    {
     "data": {
      "text/plain": [
       "[<Figure size 576x432 with 1 Axes>]"
      ]
     },
     "execution_count": 5,
     "metadata": {},
     "output_type": "execute_result"
    }
   ],
   "source": [
    "# Created the evokes (epochs during training)\n",
    "evoked_class0 = epochs['7'].average()\n",
    "evoked_class1 = epochs['8'].average()\n",
    "evoked_class2 = epochs['9'].average()\n",
    "evoked_class3 = epochs['10'].average()\n",
    "\n",
    "#left,right,foot,tongue\n",
    "dicts={'Left':evoked_class0,'Right':evoked_class1,'Feet':evoked_class2,'Tongue':evoked_class3}\n",
    "mne.viz.plot_compare_evokeds(dicts)"
   ]
  },
  {
   "cell_type": "markdown",
   "id": "db942c47",
   "metadata": {},
   "source": [
    "Based on the experiment the time window where the subject is executing the movement is 3s, but I can see that after 2s there is a mostly noise. The frequency analysis will probably show a similar figure but a bit smother if I cut the min and max time when epoching is done."
   ]
  },
  {
   "cell_type": "markdown",
   "id": "2f44c91c",
   "metadata": {},
   "source": [
    "### Frequency domain inspection\n",
    "\n",
    "I would like to see the signals in the frequency with the PDS (power density spectrum)"
   ]
  },
  {
   "cell_type": "code",
   "execution_count": 6,
   "id": "0f523f06",
   "metadata": {},
   "outputs": [
    {
     "name": "stdout",
     "output_type": "stream",
     "text": [
      "    Using multitaper spectrum estimation with 7 DPSS windows\n"
     ]
    },
    {
     "data": {
      "image/png": "[encoded data removed]",
      "text/plain": [
       "<Figure size 792x432 with 1 Axes>"
      ]
     },
     "metadata": {
      "needs_background": "light"
     },
     "output_type": "display_data"
    }
   ],
   "source": [
    "# Generate the X matrix\n",
    "X = epochs.get_data()\n",
    "\n",
    "def psd_plus_plit(X):\n",
    "    \"\"\"\n",
    "    Calculate the PSD of the input dataset and plot the psd in the frequency domain\n",
    "    Args:\n",
    "        X (np array): Train feature dataset\n",
    "    Returns:\n",
    "        None\n",
    "    \"\"\"\n",
    "    # Calculate the psds\n",
    "    psds, freqs = mne.time_frequency.psd_array_multitaper(X, sfreq=dataset.info['sfreq'],\n",
    "                                                              fmin=0.1, fmax=100)\n",
    "    # Scale the results to be dB\n",
    "    psds = 10*np.log10(psds)\n",
    "    psds_mean = psds.mean(0).mean(0)\n",
    "\n",
    "    # Plot the PSD\n",
    "    plt.rcParams['figure.figsize']=[11,6]\n",
    "    plt.rcParams.update({'font.size': 15})\n",
    "    _, ax = plt.subplots()\n",
    "    ax.plot(freqs, psds_mean, color='blue', label='psd')\n",
    "    # plot_psd(X, ax, 'original', 'k')\n",
    "\n",
    "    ax.set(title='Multitaper PSD', xlabel='Frequency (Hz)',\n",
    "           ylabel='Power Spectral Density (dB)')\n",
    "    ax.legend()\n",
    "    \n",
    "    plt.show()\n",
    "    \n",
    "psd_plus_plit(X)"
   ]
  },
  {
   "cell_type": "markdown",
   "id": "47198ef5",
   "metadata": {},
   "source": [
    "EEG data bands are from 0.5Hz until 30Hz aprox. This means that frequencies above 40Hz are not of our interest. This filter allow me to filter as well the 50Hz.\n",
    "\n",
    "Below 7Hz the EEG bands do not correspond to Motor imagery and are bands more related to sleep and deep sleep. That is why a filter from 7Hz until 35Hz is used.\n"
   ]
  },
  {
   "cell_type": "code",
   "execution_count": 7,
   "id": "8e87dc64",
   "metadata": {
    "scrolled": true
   },
   "outputs": [
    {
     "name": "stdout",
     "output_type": "stream",
     "text": [
      "Setting up band-pass filter from 7 - 35 Hz\n",
      "\n",
      "FIR filter parameters\n",
      "---------------------\n",
      "Designing a one-pass, zero-phase, non-causal bandpass filter:\n",
      "- Windowed time-domain design (firwin) method\n",
      "- Hamming window with 0.0194 passband ripple and 53 dB stopband attenuation\n",
      "- Lower passband edge: 7.00\n",
      "- Lower transition bandwidth: 2.00 Hz (-6 dB cutoff frequency: 6.00 Hz)\n",
      "- Upper passband edge: 35.00 Hz\n",
      "- Upper transition bandwidth: 8.75 Hz (-6 dB cutoff frequency: 39.38 Hz)\n",
      "- Filter length: 413 samples (1.652 sec)\n",
      "\n"
     ]
    },
    {
     "name": "stderr",
     "output_type": "stream",
     "text": [
      "[Parallel(n_jobs=1)]: Using backend SequentialBackend with 1 concurrent workers.\n",
      "[Parallel(n_jobs=1)]: Done   1 out of   1 | elapsed:    0.0s remaining:    0.0s\n",
      "[Parallel(n_jobs=1)]: Done   2 out of   2 | elapsed:    0.0s remaining:    0.0s\n",
      "[Parallel(n_jobs=1)]: Done   3 out of   3 | elapsed:    0.0s remaining:    0.0s\n",
      "[Parallel(n_jobs=1)]: Done   4 out of   4 | elapsed:    0.0s remaining:    0.0s\n",
      "[Parallel(n_jobs=1)]: Done 6336 out of 6336 | elapsed:    1.3s finished\n"
     ]
    }
   ],
   "source": [
    "# Apply filter between 7Hz and 35Hz. \n",
    "X_filtered = mne.filter.filter_data(X, dataset.info['sfreq'], 7, 35)"
   ]
  },
  {
   "cell_type": "code",
   "execution_count": 8,
   "id": "f5e8e375",
   "metadata": {
    "scrolled": false
   },
   "outputs": [
    {
     "name": "stdout",
     "output_type": "stream",
     "text": [
      "    Using multitaper spectrum estimation with 7 DPSS windows\n"
     ]
    },
    {
     "data": {
      "image/png": "[encoded data removed]",
      "text/plain": [
       "<Figure size 792x432 with 1 Axes>"
      ]
     },
     "metadata": {
      "needs_background": "light"
     },
     "output_type": "display_data"
    }
   ],
   "source": [
    "psd_plus_plit(X_filtered)"
   ]
  },
  {
   "cell_type": "markdown",
   "id": "e6f975e1",
   "metadata": {},
   "source": [
    "From the plot we can see that the epoching could be done from -0.15s until 0.8s"
   ]
  },
  {
   "cell_type": "markdown",
   "id": "ae60cb34",
   "metadata": {},
   "source": [
    "I will try to reduce the time frame to erase unnecessary noise, by creating the epochs between -0.15s and 1.8s"
   ]
  },
  {
   "cell_type": "code",
   "execution_count": 9,
   "id": "d4af1c12",
   "metadata": {
    "scrolled": false
   },
   "outputs": [
    {
     "name": "stdout",
     "output_type": "stream",
     "text": [
      "Not setting metadata\n",
      "288 matching events found\n",
      "Setting baseline interval to [-0.152, 0.0] sec\n",
      "Applying baseline correction (mode: mean)\n",
      "0 projection items activated\n",
      "Loading data for 288 events and 489 original time points ...\n",
      "0 bad epochs dropped\n",
      "Setting up band-pass filter from 7 - 35 Hz\n",
      "\n",
      "FIR filter parameters\n",
      "---------------------\n",
      "Designing a one-pass, zero-phase, non-causal bandpass filter:\n",
      "- Windowed time-domain design (firwin) method\n",
      "- Hamming window with 0.0194 passband ripple and 53 dB stopband attenuation\n",
      "- Lower passband edge: 7.00\n",
      "- Lower transition bandwidth: 2.00 Hz (-6 dB cutoff frequency: 6.00 Hz)\n",
      "- Upper passband edge: 35.00 Hz\n",
      "- Upper transition bandwidth: 8.75 Hz (-6 dB cutoff frequency: 39.38 Hz)\n",
      "- Filter length: 413 samples (1.652 sec)\n",
      "\n"
     ]
    },
    {
     "name": "stderr",
     "output_type": "stream",
     "text": [
      "[Parallel(n_jobs=1)]: Using backend SequentialBackend with 1 concurrent workers.\n",
      "[Parallel(n_jobs=1)]: Done   1 out of   1 | elapsed:    0.0s remaining:    0.0s\n",
      "[Parallel(n_jobs=1)]: Done   2 out of   2 | elapsed:    0.0s remaining:    0.0s\n",
      "[Parallel(n_jobs=1)]: Done   3 out of   3 | elapsed:    0.0s remaining:    0.0s\n",
      "[Parallel(n_jobs=1)]: Done   4 out of   4 | elapsed:    0.0s remaining:    0.0s\n"
     ]
    },
    {
     "name": "stdout",
     "output_type": "stream",
     "text": [
      "    Using multitaper spectrum estimation with 7 DPSS windows\n"
     ]
    },
    {
     "name": "stderr",
     "output_type": "stream",
     "text": [
      "[Parallel(n_jobs=1)]: Done 6336 out of 6336 | elapsed:    0.8s finished\n"
     ]
    },
    {
     "data": {
      "image/png": "[encoded data removed]",
      "text/plain": [
       "<Figure size 792x432 with 1 Axes>"
      ]
     },
     "metadata": {
      "needs_background": "light"
     },
     "output_type": "display_data"
    }
   ],
   "source": [
    "# Apply tmin and tmax to short the feature data\n",
    "epochs_shorter = mne.Epochs(dataset_eeg, events[0], event_id=[7,8,9,10],tmin= -0.15, tmax=1.8, preload=True)\n",
    "\n",
    "# Generate the feature matrix\n",
    "X_shorter = epochs_shorter.get_data()\n",
    "\n",
    "# Apply previous filter\n",
    "X_filtered_short = mne.filter.filter_data(X_shorter, dataset.info['sfreq'], 7, 35)\n",
    "\n",
    "# Calculate and plot frequency domain, PDS\n",
    "psd_plus_plit(X_filtered_short)"
   ]
  },
  {
   "cell_type": "markdown",
   "id": "06bc4b9d",
   "metadata": {},
   "source": [
    "#### Check empty data"
   ]
  },
  {
   "cell_type": "code",
   "execution_count": 10,
   "id": "b108b237",
   "metadata": {
    "scrolled": true
   },
   "outputs": [
    {
     "data": {
      "text/plain": [
       "0"
      ]
     },
     "execution_count": 10,
     "metadata": {},
     "output_type": "execute_result"
    }
   ],
   "source": [
    "np.isnan(X_filtered_short).sum()"
   ]
  },
  {
   "cell_type": "markdown",
   "id": "c97b3214",
   "metadata": {},
   "source": [
    "No need to eliminate empty trials"
   ]
  },
  {
   "cell_type": "markdown",
   "id": "b5080f2c",
   "metadata": {},
   "source": [
    "#### Looking for REF electrode"
   ]
  },
  {
   "cell_type": "code",
   "execution_count": 11,
   "id": "bb6c4cf8",
   "metadata": {
    "scrolled": true
   },
   "outputs": [
    {
     "name": "stdout",
     "output_type": "stream",
     "text": [
      "['EEG-Fz', 'EEG-0', 'EEG-1', 'EEG-2', 'EEG-3', 'EEG-4', 'EEG-5', 'EEG-C3', 'EEG-6', 'EEG-Cz', 'EEG-7', 'EEG-C4', 'EEG-8', 'EEG-9', 'EEG-10', 'EEG-11', 'EEG-12', 'EEG-13', 'EEG-14', 'EEG-Pz', 'EEG-15', 'EEG-16', 'EOG-left', 'EOG-central', 'EOG-right']\n",
      "250.0\n"
     ]
    }
   ],
   "source": [
    "print(dataset.info['ch_names'])\n",
    "print(dataset.info['sfreq'])"
   ]
  },
  {
   "cell_type": "markdown",
   "id": "dd59426a",
   "metadata": {},
   "source": [
    "There is not reference electrode in the data. Re-referencing must be done based on average."
   ]
  },
  {
   "cell_type": "markdown",
   "id": "656bf5b3",
   "metadata": {},
   "source": [
    "#### Check Validation dataset"
   ]
  },
  {
   "cell_type": "code",
   "execution_count": 12,
   "id": "d43db3c5",
   "metadata": {
    "scrolled": true
   },
   "outputs": [
    {
     "name": "stdout",
     "output_type": "stream",
     "text": [
      "Extracting EDF parameters from C:\\Users\\josea\\Desktop\\SS2023\\Hunting fot Hedonia\\Ceregate\\CereGate - ML-DL Technical Assessment\\data\\BCICIV_2a_gdf\\A01E.gdf...\n",
      "GDF file detected\n",
      "Setting channel info structure...\n",
      "Could not determine channel type of the following channels, they will be set as EEG:\n",
      "EEG-Fz, EEG, EEG, EEG, EEG, EEG, EEG, EEG-C3, EEG, EEG-Cz, EEG, EEG-C4, EEG, EEG, EEG, EEG, EEG, EEG, EEG, EEG-Pz, EEG, EEG\n",
      "Creating raw.info structure...\n",
      "Used Annotations descriptions: ['1023', '1072', '276', '277', '32766', '768', '783']\n",
      "{'1023': 1, '1072': 2, '276': 3, '277': 4, '32766': 5, '768': 6, '769': 7, '770': 8, '771': 9, '772': 10}\n"
     ]
    },
    {
     "name": "stderr",
     "output_type": "stream",
     "text": [
      "c:\\users\\josea\\appdata\\local\\programs\\python\\python39\\lib\\site-packages\\mne\\io\\edf\\edf.py:1155: DeprecationWarning: The binary mode of fromstring is deprecated, as it behaves surprisingly on unicode inputs. Use frombuffer instead\n",
      "  etmode = np.fromstring(etmode, UINT8).tolist()[0]\n",
      "c:\\users\\josea\\appdata\\local\\programs\\python\\python39\\lib\\contextlib.py:126: RuntimeWarning: Channel names are not unique, found duplicates for: {'EEG'}. Applying running numbers for duplicates.\n",
      "  next(self.gen)\n"
     ]
    }
   ],
   "source": [
    "# Loading first subject to familirize with the data\n",
    "dataset_evaluation=mne.io.read_raw_gdf(r'..\\data\\BCICIV_2a_gdf\\A01E.gdf', eog=eog_channels)\n",
    "events_evaluation_dataset=mne.events_from_annotations(dataset_evaluation)\n",
    "print(events[1])"
   ]
  },
  {
   "cell_type": "markdown",
   "id": "a6ff3fd9",
   "metadata": {},
   "source": [
    "As we can see, the evaluation dataset cant be used for the either testing or validation because these dataset do not have labels, see in 'annotations description' there is no code: 769, 770, 771, 772. There are the labels for the classes. \n",
    "I  will only work with the Training datasets and will split that one."
   ]
  },
  {
   "cell_type": "markdown",
   "id": "02d1de8d",
   "metadata": {},
   "source": [
    "### Conclusions from the EDA\n",
    "\n",
    "- Balanced dataset. Each class 288 trials, at least the first subject. Subject 4 is shorter.\n",
    "- No Empty values, for at leat the first dataset\n",
    "- No need to encoding features or labels. All the columns are numbers.\n",
    "- Need to re-referencing the signal, for this case, due to the abscense of the referene electrode in the data, will the average \n",
    "- Based on the time domain analysis, the signal will be shorted from -0.15s until 1.7s\n",
    "- Based on the frequency domain analysis at least a filter from 7Hz until 35Hz should be evaluate in the pre-processing section"
   ]
  },
  {
   "cell_type": "markdown",
   "id": "c9079c6e",
   "metadata": {},
   "source": [
    "# 1. Data Preprocessing"
   ]
  },
  {
   "cell_type": "markdown",
   "id": "bc3c47ad",
   "metadata": {},
   "source": [
    "Data will be read and the join in one dataset. The filter will be applied and then the dataset will be Split in a proportion of:\n",
    "- 70% Training\n",
    "- 20% Validation\n",
    "- 10% Testing    \n",
    "\n"
   ]
  },
  {
   "cell_type": "code",
   "execution_count": 221,
   "id": "04c8346f",
   "metadata": {
    "scrolled": true
   },
   "outputs": [
    {
     "name": "stdout",
     "output_type": "stream",
     "text": [
      "..\\data\\BCICIV_2a_gdf\\A01T.gdf\n",
      "Extracting EDF parameters from C:\\Users\\josea\\Desktop\\SS2023\\Hunting fot Hedonia\\Ceregate\\CereGate - ML-DL Technical Assessment\\data\\BCICIV_2a_gdf\\A01T.gdf...\n",
      "GDF file detected\n",
      "Setting channel info structure...\n",
      "Could not determine channel type of the following channels, they will be set as EEG:\n",
      "EEG-Fz, EEG, EEG, EEG, EEG, EEG, EEG, EEG-C3, EEG, EEG-Cz, EEG, EEG-C4, EEG, EEG, EEG, EEG, EEG, EEG, EEG, EEG-Pz, EEG, EEG\n",
      "Creating raw.info structure...\n",
      "Reading 0 ... 672527  =      0.000 ...  2690.108 secs...\n"
     ]
    },
    {
     "name": "stderr",
     "output_type": "stream",
     "text": [
      "c:\\users\\josea\\appdata\\local\\programs\\python\\python39\\lib\\site-packages\\mne\\io\\edf\\edf.py:1155: DeprecationWarning: The binary mode of fromstring is deprecated, as it behaves surprisingly on unicode inputs. Use frombuffer instead\n",
      "  etmode = np.fromstring(etmode, UINT8).tolist()[0]\n",
      "c:\\users\\josea\\appdata\\local\\programs\\python\\python39\\lib\\contextlib.py:126: RuntimeWarning: Channel names are not unique, found duplicates for: {'EEG'}. Applying running numbers for duplicates.\n",
      "  next(self.gen)\n"
     ]
    },
    {
     "name": "stdout",
     "output_type": "stream",
     "text": [
      "EEG channel type selected for re-referencing\n",
      "Applying average reference.\n",
      "Applying a custom ('EEG',) reference.\n",
      "Used Annotations descriptions: ['1023', '1072', '276', '277', '32766', '768', '769', '770', '771', '772']\n",
      "Not setting metadata\n",
      "288 matching events found\n",
      "Setting baseline interval to [-0.2, 0.0] sec\n",
      "Applying baseline correction (mode: mean)\n",
      "0 projection items activated\n",
      "Using data from preloaded Raw for 288 events and 176 original time points ...\n",
      "0 bad epochs dropped\n",
      "..\\data\\BCICIV_2a_gdf\\A02T.gdf\n",
      "Extracting EDF parameters from C:\\Users\\josea\\Desktop\\SS2023\\Hunting fot Hedonia\\Ceregate\\CereGate - ML-DL Technical Assessment\\data\\BCICIV_2a_gdf\\A02T.gdf...\n",
      "GDF file detected\n",
      "Setting channel info structure...\n",
      "Could not determine channel type of the following channels, they will be set as EEG:\n",
      "EEG-Fz, EEG, EEG, EEG, EEG, EEG, EEG, EEG-C3, EEG, EEG-Cz, EEG, EEG-C4, EEG, EEG, EEG, EEG, EEG, EEG, EEG, EEG-Pz, EEG, EEG\n",
      "Creating raw.info structure...\n",
      "Reading 0 ... 677168  =      0.000 ...  2708.672 secs...\n"
     ]
    },
    {
     "name": "stderr",
     "output_type": "stream",
     "text": [
      "c:\\users\\josea\\appdata\\local\\programs\\python\\python39\\lib\\site-packages\\mne\\io\\edf\\edf.py:1155: DeprecationWarning: The binary mode of fromstring is deprecated, as it behaves surprisingly on unicode inputs. Use frombuffer instead\n",
      "  etmode = np.fromstring(etmode, UINT8).tolist()[0]\n",
      "c:\\users\\josea\\appdata\\local\\programs\\python\\python39\\lib\\contextlib.py:126: RuntimeWarning: Channel names are not unique, found duplicates for: {'EEG'}. Applying running numbers for duplicates.\n",
      "  next(self.gen)\n"
     ]
    },
    {
     "name": "stdout",
     "output_type": "stream",
     "text": [
      "EEG channel type selected for re-referencing\n",
      "Applying average reference.\n",
      "Applying a custom ('EEG',) reference.\n",
      "Used Annotations descriptions: ['1023', '1072', '276', '277', '32766', '768', '769', '770', '771', '772']\n",
      "Not setting metadata\n",
      "288 matching events found\n",
      "Setting baseline interval to [-0.2, 0.0] sec\n",
      "Applying baseline correction (mode: mean)\n",
      "0 projection items activated\n",
      "Using data from preloaded Raw for 288 events and 176 original time points ...\n",
      "0 bad epochs dropped\n",
      "..\\data\\BCICIV_2a_gdf\\A03T.gdf\n",
      "Extracting EDF parameters from C:\\Users\\josea\\Desktop\\SS2023\\Hunting fot Hedonia\\Ceregate\\CereGate - ML-DL Technical Assessment\\data\\BCICIV_2a_gdf\\A03T.gdf...\n",
      "GDF file detected\n",
      "Setting channel info structure...\n",
      "Could not determine channel type of the following channels, they will be set as EEG:\n",
      "EEG-Fz, EEG, EEG, EEG, EEG, EEG, EEG, EEG-C3, EEG, EEG-Cz, EEG, EEG-C4, EEG, EEG, EEG, EEG, EEG, EEG, EEG, EEG-Pz, EEG, EEG\n",
      "Creating raw.info structure...\n",
      "Reading 0 ... 660529  =      0.000 ...  2642.116 secs...\n"
     ]
    },
    {
     "name": "stderr",
     "output_type": "stream",
     "text": [
      "c:\\users\\josea\\appdata\\local\\programs\\python\\python39\\lib\\site-packages\\mne\\io\\edf\\edf.py:1155: DeprecationWarning: The binary mode of fromstring is deprecated, as it behaves surprisingly on unicode inputs. Use frombuffer instead\n",
      "  etmode = np.fromstring(etmode, UINT8).tolist()[0]\n",
      "c:\\users\\josea\\appdata\\local\\programs\\python\\python39\\lib\\contextlib.py:126: RuntimeWarning: Channel names are not unique, found duplicates for: {'EEG'}. Applying running numbers for duplicates.\n",
      "  next(self.gen)\n"
     ]
    },
    {
     "name": "stdout",
     "output_type": "stream",
     "text": [
      "EEG channel type selected for re-referencing\n",
      "Applying average reference.\n",
      "Applying a custom ('EEG',) reference.\n",
      "Used Annotations descriptions: ['1023', '1072', '276', '277', '32766', '768', '769', '770', '771', '772']\n",
      "Not setting metadata\n",
      "288 matching events found\n",
      "Setting baseline interval to [-0.2, 0.0] sec\n",
      "Applying baseline correction (mode: mean)\n",
      "0 projection items activated\n",
      "Using data from preloaded Raw for 288 events and 176 original time points ...\n",
      "0 bad epochs dropped\n",
      "..\\data\\BCICIV_2a_gdf\\A04T.gdf\n",
      "Extracting EDF parameters from C:\\Users\\josea\\Desktop\\SS2023\\Hunting fot Hedonia\\Ceregate\\CereGate - ML-DL Technical Assessment\\data\\BCICIV_2a_gdf\\A04T.gdf...\n",
      "GDF file detected\n",
      "Setting channel info structure...\n",
      "Could not determine channel type of the following channels, they will be set as EEG:\n",
      "EEG-Fz, EEG, EEG, EEG, EEG, EEG, EEG, EEG-C3, EEG, EEG-Cz, EEG, EEG-C4, EEG, EEG, EEG, EEG, EEG, EEG, EEG, EEG-Pz, EEG, EEG\n",
      "Creating raw.info structure...\n",
      "Reading 0 ... 600914  =      0.000 ...  2403.656 secs...\n"
     ]
    },
    {
     "name": "stderr",
     "output_type": "stream",
     "text": [
      "c:\\users\\josea\\appdata\\local\\programs\\python\\python39\\lib\\site-packages\\mne\\io\\edf\\edf.py:1155: DeprecationWarning: The binary mode of fromstring is deprecated, as it behaves surprisingly on unicode inputs. Use frombuffer instead\n",
      "  etmode = np.fromstring(etmode, UINT8).tolist()[0]\n",
      "c:\\users\\josea\\appdata\\local\\programs\\python\\python39\\lib\\contextlib.py:126: RuntimeWarning: Channel names are not unique, found duplicates for: {'EEG'}. Applying running numbers for duplicates.\n",
      "  next(self.gen)\n"
     ]
    },
    {
     "name": "stdout",
     "output_type": "stream",
     "text": [
      "EEG channel type selected for re-referencing\n",
      "Applying average reference.\n",
      "Applying a custom ('EEG',) reference.\n",
      "Used Annotations descriptions: ['1023', '1072', '32766', '768', '769', '770', '771', '772']\n",
      "Not setting metadata\n",
      "144 matching events found\n",
      "Setting baseline interval to [-0.2, 0.0] sec\n",
      "Applying baseline correction (mode: mean)\n",
      "0 projection items activated\n",
      "Using data from preloaded Raw for 144 events and 176 original time points ...\n",
      "0 bad epochs dropped\n",
      "..\\data\\BCICIV_2a_gdf\\A05T.gdf\n",
      "Extracting EDF parameters from C:\\Users\\josea\\Desktop\\SS2023\\Hunting fot Hedonia\\Ceregate\\CereGate - ML-DL Technical Assessment\\data\\BCICIV_2a_gdf\\A05T.gdf...\n",
      "GDF file detected\n",
      "Setting channel info structure...\n",
      "Could not determine channel type of the following channels, they will be set as EEG:\n",
      "EEG-Fz, EEG, EEG, EEG, EEG, EEG, EEG, EEG-C3, EEG, EEG-Cz, EEG, EEG-C4, EEG, EEG, EEG, EEG, EEG, EEG, EEG, EEG-Pz, EEG, EEG\n",
      "Creating raw.info structure...\n",
      "Reading 0 ... 686119  =      0.000 ...  2744.476 secs...\n"
     ]
    },
    {
     "name": "stderr",
     "output_type": "stream",
     "text": [
      "<ipython-input-221-4b7464a67db9>:28: RuntimeWarning: No matching events found for 9 (event id 9)\n",
      "  epochs = mne.Epochs(dataset_eeg, events[0], event_id=[7,8,9,10], on_missing ='warn')\n",
      "<ipython-input-221-4b7464a67db9>:28: RuntimeWarning: No matching events found for 10 (event id 10)\n",
      "  epochs = mne.Epochs(dataset_eeg, events[0], event_id=[7,8,9,10], on_missing ='warn')\n",
      "c:\\users\\josea\\appdata\\local\\programs\\python\\python39\\lib\\site-packages\\mne\\io\\edf\\edf.py:1155: DeprecationWarning: The binary mode of fromstring is deprecated, as it behaves surprisingly on unicode inputs. Use frombuffer instead\n",
      "  etmode = np.fromstring(etmode, UINT8).tolist()[0]\n",
      "c:\\users\\josea\\appdata\\local\\programs\\python\\python39\\lib\\contextlib.py:126: RuntimeWarning: Channel names are not unique, found duplicates for: {'EEG'}. Applying running numbers for duplicates.\n",
      "  next(self.gen)\n"
     ]
    },
    {
     "name": "stdout",
     "output_type": "stream",
     "text": [
      "EEG channel type selected for re-referencing\n",
      "Applying average reference.\n",
      "Applying a custom ('EEG',) reference.\n",
      "Used Annotations descriptions: ['1023', '1072', '276', '277', '32766', '768', '769', '770', '771', '772']\n",
      "Not setting metadata\n",
      "288 matching events found\n",
      "Setting baseline interval to [-0.2, 0.0] sec\n",
      "Applying baseline correction (mode: mean)\n",
      "0 projection items activated\n",
      "Using data from preloaded Raw for 288 events and 176 original time points ...\n",
      "0 bad epochs dropped\n",
      "..\\data\\BCICIV_2a_gdf\\A06T.gdf\n",
      "Extracting EDF parameters from C:\\Users\\josea\\Desktop\\SS2023\\Hunting fot Hedonia\\Ceregate\\CereGate - ML-DL Technical Assessment\\data\\BCICIV_2a_gdf\\A06T.gdf...\n",
      "GDF file detected\n",
      "Setting channel info structure...\n",
      "Could not determine channel type of the following channels, they will be set as EEG:\n",
      "EEG-Fz, EEG, EEG, EEG, EEG, EEG, EEG, EEG-C3, EEG, EEG-Cz, EEG, EEG-C4, EEG, EEG, EEG, EEG, EEG, EEG, EEG, EEG-Pz, EEG, EEG\n",
      "Creating raw.info structure...\n",
      "Reading 0 ... 678979  =      0.000 ...  2715.916 secs...\n"
     ]
    },
    {
     "name": "stderr",
     "output_type": "stream",
     "text": [
      "c:\\users\\josea\\appdata\\local\\programs\\python\\python39\\lib\\site-packages\\mne\\io\\edf\\edf.py:1155: DeprecationWarning: The binary mode of fromstring is deprecated, as it behaves surprisingly on unicode inputs. Use frombuffer instead\n",
      "  etmode = np.fromstring(etmode, UINT8).tolist()[0]\n",
      "c:\\users\\josea\\appdata\\local\\programs\\python\\python39\\lib\\contextlib.py:126: RuntimeWarning: Channel names are not unique, found duplicates for: {'EEG'}. Applying running numbers for duplicates.\n",
      "  next(self.gen)\n"
     ]
    },
    {
     "name": "stdout",
     "output_type": "stream",
     "text": [
      "EEG channel type selected for re-referencing\n",
      "Applying average reference.\n",
      "Applying a custom ('EEG',) reference.\n",
      "Used Annotations descriptions: ['1023', '1072', '276', '277', '32766', '768', '769', '770', '771', '772']\n",
      "Not setting metadata\n",
      "288 matching events found\n",
      "Setting baseline interval to [-0.2, 0.0] sec\n",
      "Applying baseline correction (mode: mean)\n",
      "0 projection items activated\n",
      "Using data from preloaded Raw for 288 events and 176 original time points ...\n",
      "0 bad epochs dropped\n",
      "..\\data\\BCICIV_2a_gdf\\A07T.gdf\n",
      "Extracting EDF parameters from C:\\Users\\josea\\Desktop\\SS2023\\Hunting fot Hedonia\\Ceregate\\CereGate - ML-DL Technical Assessment\\data\\BCICIV_2a_gdf\\A07T.gdf...\n",
      "GDF file detected\n",
      "Setting channel info structure...\n",
      "Could not determine channel type of the following channels, they will be set as EEG:\n",
      "EEG-Fz, EEG, EEG, EEG, EEG, EEG, EEG, EEG-C3, EEG, EEG-Cz, EEG, EEG-C4, EEG, EEG, EEG, EEG, EEG, EEG, EEG, EEG-Pz, EEG, EEG\n",
      "Creating raw.info structure...\n",
      "Reading 0 ... 681070  =      0.000 ...  2724.280 secs...\n"
     ]
    },
    {
     "name": "stderr",
     "output_type": "stream",
     "text": [
      "c:\\users\\josea\\appdata\\local\\programs\\python\\python39\\lib\\site-packages\\mne\\io\\edf\\edf.py:1155: DeprecationWarning: The binary mode of fromstring is deprecated, as it behaves surprisingly on unicode inputs. Use frombuffer instead\n",
      "  etmode = np.fromstring(etmode, UINT8).tolist()[0]\n",
      "c:\\users\\josea\\appdata\\local\\programs\\python\\python39\\lib\\contextlib.py:126: RuntimeWarning: Channel names are not unique, found duplicates for: {'EEG'}. Applying running numbers for duplicates.\n",
      "  next(self.gen)\n"
     ]
    },
    {
     "name": "stdout",
     "output_type": "stream",
     "text": [
      "EEG channel type selected for re-referencing\n",
      "Applying average reference.\n",
      "Applying a custom ('EEG',) reference.\n",
      "Used Annotations descriptions: ['1023', '1072', '276', '277', '32766', '768', '769', '770', '771', '772']\n",
      "Not setting metadata\n",
      "288 matching events found\n",
      "Setting baseline interval to [-0.2, 0.0] sec\n",
      "Applying baseline correction (mode: mean)\n",
      "0 projection items activated\n",
      "Using data from preloaded Raw for 288 events and 176 original time points ...\n",
      "0 bad epochs dropped\n",
      "..\\data\\BCICIV_2a_gdf\\A08T.gdf\n",
      "Extracting EDF parameters from C:\\Users\\josea\\Desktop\\SS2023\\Hunting fot Hedonia\\Ceregate\\CereGate - ML-DL Technical Assessment\\data\\BCICIV_2a_gdf\\A08T.gdf...\n",
      "GDF file detected\n",
      "Setting channel info structure...\n",
      "Could not determine channel type of the following channels, they will be set as EEG:\n",
      "EEG-Fz, EEG, EEG, EEG, EEG, EEG, EEG, EEG-C3, EEG, EEG-Cz, EEG, EEG-C4, EEG, EEG, EEG, EEG, EEG, EEG, EEG, EEG-Pz, EEG, EEG\n",
      "Creating raw.info structure...\n",
      "Reading 0 ... 675269  =      0.000 ...  2701.076 secs...\n"
     ]
    },
    {
     "name": "stderr",
     "output_type": "stream",
     "text": [
      "c:\\users\\josea\\appdata\\local\\programs\\python\\python39\\lib\\site-packages\\mne\\io\\edf\\edf.py:1155: DeprecationWarning: The binary mode of fromstring is deprecated, as it behaves surprisingly on unicode inputs. Use frombuffer instead\n",
      "  etmode = np.fromstring(etmode, UINT8).tolist()[0]\n",
      "c:\\users\\josea\\appdata\\local\\programs\\python\\python39\\lib\\contextlib.py:126: RuntimeWarning: Channel names are not unique, found duplicates for: {'EEG'}. Applying running numbers for duplicates.\n",
      "  next(self.gen)\n"
     ]
    },
    {
     "name": "stdout",
     "output_type": "stream",
     "text": [
      "EEG channel type selected for re-referencing\n",
      "Applying average reference.\n",
      "Applying a custom ('EEG',) reference.\n",
      "Used Annotations descriptions: ['1023', '1072', '276', '277', '32766', '768', '769', '770', '771', '772']\n",
      "Not setting metadata\n",
      "288 matching events found\n",
      "Setting baseline interval to [-0.2, 0.0] sec\n",
      "Applying baseline correction (mode: mean)\n",
      "0 projection items activated\n",
      "Using data from preloaded Raw for 288 events and 176 original time points ...\n",
      "0 bad epochs dropped\n",
      "..\\data\\BCICIV_2a_gdf\\A09T.gdf\n",
      "Extracting EDF parameters from C:\\Users\\josea\\Desktop\\SS2023\\Hunting fot Hedonia\\Ceregate\\CereGate - ML-DL Technical Assessment\\data\\BCICIV_2a_gdf\\A09T.gdf...\n",
      "GDF file detected\n",
      "Setting channel info structure...\n",
      "Could not determine channel type of the following channels, they will be set as EEG:\n",
      "EEG-Fz, EEG, EEG, EEG, EEG, EEG, EEG, EEG-C3, EEG, EEG-Cz, EEG, EEG-C4, EEG, EEG, EEG, EEG, EEG, EEG, EEG, EEG-Pz, EEG, EEG\n",
      "Creating raw.info structure...\n",
      "Reading 0 ... 673327  =      0.000 ...  2693.308 secs...\n"
     ]
    },
    {
     "name": "stderr",
     "output_type": "stream",
     "text": [
      "c:\\users\\josea\\appdata\\local\\programs\\python\\python39\\lib\\site-packages\\mne\\io\\edf\\edf.py:1155: DeprecationWarning: The binary mode of fromstring is deprecated, as it behaves surprisingly on unicode inputs. Use frombuffer instead\n",
      "  etmode = np.fromstring(etmode, UINT8).tolist()[0]\n",
      "c:\\users\\josea\\appdata\\local\\programs\\python\\python39\\lib\\contextlib.py:126: RuntimeWarning: Channel names are not unique, found duplicates for: {'EEG'}. Applying running numbers for duplicates.\n",
      "  next(self.gen)\n"
     ]
    },
    {
     "name": "stdout",
     "output_type": "stream",
     "text": [
      "EEG channel type selected for re-referencing\n",
      "Applying average reference.\n",
      "Applying a custom ('EEG',) reference.\n",
      "Used Annotations descriptions: ['1023', '1072', '276', '277', '32766', '768', '769', '770', '771', '772']\n",
      "Not setting metadata\n",
      "288 matching events found\n",
      "Setting baseline interval to [-0.2, 0.0] sec\n",
      "Applying baseline correction (mode: mean)\n",
      "0 projection items activated\n",
      "Using data from preloaded Raw for 288 events and 176 original time points ...\n",
      "0 bad epochs dropped\n"
     ]
    }
   ],
   "source": [
    "# Function to read all the datasets\n",
    "\n",
    "eog_channels = [\"EOG-left\", \"EOG-central\", \"EOG-right\"]\n",
    "\n",
    "def loading_data(path):\n",
    "    \"\"\"\n",
    "    Load all the gdf train datasets\n",
    "    Args:\n",
    "        path (string): Path to the folder locations of the files\n",
    "    Returns:\n",
    "        X_train (array) : Array of features\n",
    "        y_train (array): Array of labels\n",
    "    \"\"\"\n",
    "    \n",
    "    \n",
    "    print(path)\n",
    "    dataset_raw=mne.io.read_raw_gdf(path, eog=eog_channels,  preload=True )\n",
    "    \n",
    "    # Split EEG and EOG\n",
    "    dataset_eeg = dataset_raw.copy().pick_types(eeg=True)\n",
    "    dataset_eog = dataset_raw.copy().pick_types(eog=True)\n",
    "\n",
    "    # Re-reference ref_channels='average'\n",
    "    dataset_eeg.set_eeg_reference(ref_channels='average')\n",
    "    \n",
    "    # Epoching based on the \n",
    "    events = mne.events_from_annotations(dataset_eeg)\n",
    "    epochs = mne.Epochs(dataset_eeg, events[0], event_id=[7,8,9,10], on_missing ='warn')\n",
    "    y_train = epochs.events[:,-1]\n",
    "    X_train = epochs.get_data()\n",
    "    return X_train , y_train\n",
    "\n",
    "\n",
    "X = []\n",
    "y = [] \n",
    "\n",
    "for i in range(1,10):\n",
    "    X_train_partial,y_train_partial = loading_data(f'..\\data\\BCICIV_2a_gdf\\A0{i}T.gdf')\n",
    "    X.append(X_train_partial)\n",
    "    y.append(y_train_partial)\n",
    "    \n",
    "X_ = np.concatenate(X)\n",
    "y_ = np.concatenate(y)"
   ]
  },
  {
   "cell_type": "code",
   "execution_count": 407,
   "id": "05770244",
   "metadata": {},
   "outputs": [
    {
     "name": "stdout",
     "output_type": "stream",
     "text": [
      "(2448, 22, 176) (2448,)\n",
      "Empty Trials:  0\n"
     ]
    }
   ],
   "source": [
    "# Check empty values\n",
    "print(X_.shape, y_.shape)\n",
    "print('Empty Trials: ', np.isnan(X_).sum())"
   ]
  },
  {
   "cell_type": "code",
   "execution_count": 408,
   "id": "334bb342",
   "metadata": {
    "scrolled": false
   },
   "outputs": [
    {
     "name": "stdout",
     "output_type": "stream",
     "text": [
      "Setting up band-pass filter from 7 - 35 Hz\n",
      "\n",
      "FIR filter parameters\n",
      "---------------------\n",
      "Designing a one-pass, zero-phase, non-causal bandpass filter:\n",
      "- Windowed time-domain design (firwin) method\n",
      "- Hamming window with 0.0194 passband ripple and 53 dB stopband attenuation\n",
      "- Lower passband edge: 7.00\n",
      "- Lower transition bandwidth: 2.00 Hz (-6 dB cutoff frequency: 6.00 Hz)\n",
      "- Upper passband edge: 35.00 Hz\n",
      "- Upper transition bandwidth: 8.75 Hz (-6 dB cutoff frequency: 39.38 Hz)\n",
      "- Filter length: 413 samples (1.652 sec)\n",
      "\n"
     ]
    },
    {
     "name": "stderr",
     "output_type": "stream",
     "text": [
      "<ipython-input-408-14b14d1f2d1b>:2: RuntimeWarning: filter_length (413) is longer than the signal (176), distortion is likely. Reduce filter length or filter a longer signal.\n",
      "  X_filtered = mne.filter.filter_data(X_, dataset.info['sfreq'], 7, 35)\n",
      "[Parallel(n_jobs=1)]: Using backend SequentialBackend with 1 concurrent workers.\n",
      "[Parallel(n_jobs=1)]: Done   1 out of   1 | elapsed:    0.0s remaining:    0.0s\n",
      "[Parallel(n_jobs=1)]: Done   2 out of   2 | elapsed:    0.0s remaining:    0.0s\n",
      "[Parallel(n_jobs=1)]: Done   3 out of   3 | elapsed:    0.0s remaining:    0.0s\n",
      "[Parallel(n_jobs=1)]: Done   4 out of   4 | elapsed:    0.0s remaining:    0.0s\n",
      "[Parallel(n_jobs=1)]: Done 53856 out of 53856 | elapsed:    9.2s finished\n"
     ]
    }
   ],
   "source": [
    "# Apply filter between 7Hz and 35Hz. \n",
    "X_filtered = mne.filter.filter_data(X_, dataset.info['sfreq'], 7, 35)"
   ]
  },
  {
   "cell_type": "code",
   "execution_count": 224,
   "id": "6a16ed88",
   "metadata": {},
   "outputs": [
    {
     "name": "stdout",
     "output_type": "stream",
     "text": [
      "X_train size  (1713, 22, 176) X_val size  (490, 22, 176) X_test size  (245, 22, 176)\n"
     ]
    }
   ],
   "source": [
    "# Split the dataset\n",
    "train_ratio = 0.70\n",
    "validation_ratio = 0.20\n",
    "test_ratio = 0.10\n",
    "\n",
    "# Due to the annotations the classses are 7,8,9,10. I have to mapp it to 0,1,2,3\n",
    "y_ = np.where(y_ >= 7, y_ - 7, y_)\n",
    "\n",
    "X_train, X_test, y_train, y_test = train_test_split(X_filtered, y_, test_size = 1 - train_ratio, random_state=42)\n",
    "                                                    \n",
    "# validation is now 15% of the initial data set\n",
    "X_val, X_test, y_val, y_test = train_test_split(X_test, y_test, test_size=test_ratio/(test_ratio + validation_ratio)) \n",
    "\n",
    "print('X_train size ', X_train.shape, 'X_val size ', X_val.shape, 'X_test size ', X_test.shape,)\n"
   ]
  },
  {
   "cell_type": "markdown",
   "id": "dd61e3ec",
   "metadata": {},
   "source": [
    "## Partial Conclusions\n",
    "- As discussed in the EDA sections there was applyed:\n",
    "    - Re-referencing with the average of the 22 electrodes\n",
    "    - Band Pass filter applied between 7Hz and 35Hz\n",
    "    - Time window applied between -0.15s and 1.8s\n",
    "    - Epoching applied with the labels related just with the motor imagery commands"
   ]
  },
  {
   "cell_type": "markdown",
   "id": "2641bc5d",
   "metadata": {},
   "source": [
    "# 2. Model Development"
   ]
  },
  {
   "cell_type": "markdown",
   "id": "bc2607ff",
   "metadata": {},
   "source": [
    "A CNN will be implemented integrated by several layers with:\n",
    "- 1D Convolutional layer\n",
    "- ReLU as activation function\n",
    "- 1D Max Pool\n",
    "\n",
    "The amount of layer will be consider depending of the vase of either underfittig (Add more) o overfitting (Use regularization methods)"
   ]
  },
  {
   "cell_type": "code",
   "execution_count": 523,
   "id": "7031ff4b",
   "metadata": {},
   "outputs": [],
   "source": [
    "# Define the architecture\n",
    "\n",
    "class CNN_Model(nn.Module):\n",
    "    def __init__(self, output_size,  dropout):\n",
    "        \n",
    "        # Definition of the model\n",
    "        # 5 layers with a final fully connected network\n",
    "        \n",
    "        super(CNN_Model, self).__init__()\n",
    "        \n",
    "        self.conv1 = nn.Conv1d(in_channels=22, out_channels=20, kernel_size=3, stride= 1, padding = 0)\n",
    "        nn.Dropout(p=dropout)\n",
    "        self.pool1 = nn.MaxPool1d(kernel_size= 9, stride =1)\n",
    "#         self.batch_n1 = nn.BatchNorm1d(20, affine=False)\n",
    "        self.drop_ = nn.Dropout(p=dropout)\n",
    "        \n",
    "        self.conv2 = nn.Conv1d(in_channels=20, out_channels=10, kernel_size=3, stride=1)\n",
    "        self.pool2 = nn.MaxPool1d(kernel_size=3, stride = 1)\n",
    "#         self.batch_n2 = nn.BatchNorm1d(10, affine=False)\n",
    "        self.drop_ = nn.Dropout(p=dropout)\n",
    "        \n",
    "        self.conv3 = nn.Conv1d(in_channels=10, out_channels=5, kernel_size=3, stride=2)\n",
    "        self.pool3 = nn.MaxPool1d(kernel_size=3, stride = 1)\n",
    "#         self.batch_n3 = nn.BatchNorm1d(5, affine=False)\n",
    "        self.drop_ = nn.Dropout(p=dropout)\n",
    "        \n",
    "        self.conv4 = nn.Conv1d(in_channels=5, out_channels=5, kernel_size=3, stride=2)\n",
    "        self.pool4 = nn.MaxPool1d(kernel_size=3, stride = 1)\n",
    "        \n",
    "        self.fc1 = nn.Linear(5*38, output_size)\n",
    "        \n",
    "    def forward(self, x):\n",
    "        \n",
    "        x = F.relu(self.conv1(x))\n",
    "#         print(\"input: \", x[0].shape)\n",
    "        x = self.pool1(x)\n",
    "#         print(\"input: \", x[0].shape)\n",
    "#         x = self.batch_n1(x)\n",
    "        x = self.drop_(x)\n",
    "    \n",
    "        x = F.relu(self.conv2(x))\n",
    "#         print(\"input: \", x[0].shape)\n",
    "        x = self.pool2(x)\n",
    "#         print(\"input: \", x[0].shape)\n",
    "#         x = self.batch_n2(x)\n",
    "        x = self.drop_(x)\n",
    "        \n",
    "        \n",
    "        x = F.relu(self.conv3(x))\n",
    "#         print(\"input: \", x[0].shape)\n",
    "        x = self.pool3(x)\n",
    "#         print(\"input: \", x[0].shape)\n",
    "#         x = self.batch_n3(x)\n",
    "        x = self.drop_(x)\n",
    "        \n",
    "        \n",
    "        x = F.relu(self.conv4(x))\n",
    "        x = self.drop_(x)\n",
    "        \n",
    "#         print(\"input: \", x[0].shape)\n",
    "\n",
    "        x = x.reshape(x.shape[0], -1)\n",
    "#         print(\"input: \", x[0].shape)\n",
    "        x = self.fc1(x)\n",
    "#         print(\"out: \", x[0].shape)\n",
    "\n",
    "        return x"
   ]
  },
  {
   "cell_type": "markdown",
   "id": "11160646",
   "metadata": {},
   "source": [
    "Define hyperparameters of the network:\n",
    "- Output are 4, which means that Cross Entropy loss function could be the best idea for this case\n",
    "- Learning rate as 0.001, this parameter may change\n",
    "- Epochs 100, to start\n",
    "- Batch size of 64\n",
    "- Optimizer: Adam"
   ]
  },
  {
   "cell_type": "code",
   "execution_count": 531,
   "id": "a288586a",
   "metadata": {},
   "outputs": [
    {
     "name": "stdout",
     "output_type": "stream",
     "text": [
      "(1713, 22, 176)\n"
     ]
    }
   ],
   "source": [
    "# Define the hyperparameters\n",
    "# input_size = 6  # Size of input features\n",
    "output_size = 4  # Number of output classes\n",
    "learning_rate = 0.001  # Learning rate\n",
    "num_epochs = 100  # Number of training epochs\n",
    "batch_size = 64 # Batch size for mini-batch SGD\n",
    "\n",
    "\n",
    "# Instantiate the CNN model\n",
    "model = CNN_Model(output_size, dropout = 0.1).to(device)\n",
    "\n",
    "# Define the loss function and optimizer\n",
    "criterion = nn.CrossEntropyLoss()\n",
    "optimizer = optim.Adam(model.parameters(), lr=learning_rate)\n",
    "\n",
    "\n",
    "print(X_train.shape)"
   ]
  },
  {
   "cell_type": "code",
   "execution_count": 532,
   "id": "d5145f0c",
   "metadata": {},
   "outputs": [],
   "source": [
    "# Creating tensor loaders\n",
    "train_features_tensor = torch.tensor(X_train, dtype=torch.float32)\n",
    "train_labels_tensor = torch.tensor(y_train, dtype=torch.float32)\n",
    "\n",
    "val_features_tensor = torch.tensor(X_val, dtype=torch.float32)\n",
    "val_labels_tensor = torch.tensor(y_val, dtype=torch.float32)\n",
    "\n",
    "test_features_tensor = torch.tensor(X_test, dtype=torch.float32)\n",
    "test_labels_tensor = torch.tensor(y_test, dtype=torch.float32)\n",
    "\n",
    "# Create data loaders\n",
    "train_dataset = torch.utils.data.TensorDataset(train_features_tensor, train_labels_tensor)\n",
    "val_dataset = torch.utils.data.TensorDataset(val_features_tensor, val_labels_tensor)\n",
    "test_dataset = torch.utils.data.TensorDataset(test_features_tensor, test_labels_tensor)\n",
    "\n",
    "train_loader = torch.utils.data.DataLoader(train_dataset, batch_size=batch_size, shuffle=True)\n",
    "val_loader = torch.utils.data.DataLoader(val_dataset, batch_size=batch_size, shuffle=True)\n",
    "test_loader = torch.utils.data.DataLoader(test_dataset, batch_size=batch_size, shuffle=False)"
   ]
  },
  {
   "cell_type": "code",
   "execution_count": 533,
   "id": "05d1e2f5",
   "metadata": {},
   "outputs": [
    {
     "name": "stdout",
     "output_type": "stream",
     "text": [
      "Your GPU device name : NVIDIA GeForce RTX 3060 Laptop GPU\n"
     ]
    }
   ],
   "source": [
    "device = torch.device(\"cuda\" if torch.cuda.is_available() else \"cpu\")\n",
    "\n",
    "if dev.type == 'cuda':\n",
    "   print('Your GPU device name :', torch.cuda.get_device_name())"
   ]
  },
  {
   "cell_type": "markdown",
   "id": "590499e2",
   "metadata": {},
   "source": [
    "# 3. Training and Evaluation"
   ]
  },
  {
   "cell_type": "markdown",
   "id": "ac1681ac",
   "metadata": {},
   "source": [
    "After defining the model we need 2 functions:\n",
    "- To train (train_epoch)\n",
    "- To evaluate and calculate accuracy and loss (valid_epoch)"
   ]
  },
  {
   "cell_type": "code",
   "execution_count": 534,
   "id": "41e62d6c",
   "metadata": {},
   "outputs": [],
   "source": [
    "def train_epoch(model, device,dataloader, criterion, optimizer):\n",
    "    \"\"\"\n",
    "    Train the model based on some arguments\n",
    "    Args:\n",
    "        model (pytorch model): Model defined prev\n",
    "        device: required to process on GPU\n",
    "        dataloader: the input dataloader\n",
    "        criterion: Loss function\n",
    "        optimizer: Optimizer\n",
    "    Returns:\n",
    "        train_loss (np array): Cumulative losses per epoch\n",
    "        train_correct (np array):  Cumulative correct predictions per epoch\n",
    "    \"\"\"\n",
    "    \n",
    "    train_loss, train_correct = 0.0, 0\n",
    "    model.train()\n",
    "    for i, (signal, labels) in enumerate(dataloader):\n",
    "        \n",
    "        labels = labels.long()          \n",
    "        signal, labels = signal.to(device), labels.to(device)\n",
    "        \n",
    "        # Forward pass\n",
    "        outputs = model(signal)\n",
    "        loss = criterion(outputs,labels)     \n",
    "        \n",
    "        # Backward and optimize\n",
    "        optimizer.zero_grad()     \n",
    "        loss.backward()\n",
    "        optimizer.step()\n",
    "               \n",
    "        train_loss += loss.item() * signal.size(0)\n",
    "        scores, predictions = outputs.max(1)\n",
    "        train_correct += (predictions == labels).sum().item()        \n",
    "        \n",
    "    return train_loss, train_correct\n",
    "  \n",
    "def valid_epoch(model, device, dataloader, criterion):\n",
    "    \"\"\"\n",
    "    Evaluate the model based on some arguments\n",
    "    Args:\n",
    "        model (pytorch model): Model defined prev\n",
    "        device: required to process on GPU\n",
    "        dataloader: the input dataloader\n",
    "        criterion: Loss function\n",
    "    Returns:\n",
    "        valid_loss (np array): Cumulative losses per epoch\n",
    "        val_correct (np array):  Cumulative correct predictions per epoch\n",
    "    \"\"\"\n",
    "    \n",
    "    valid_loss, val_correct = 0.0, 0\n",
    "    total = 0\n",
    "    model.eval()\n",
    "    for signal, labels in dataloader:\n",
    "#         signal = signal.unsqueeze(2).type(torch.FloatTensor)\n",
    "        labels = labels.long()         \n",
    "        signal, labels = signal.to(device), labels.to(device)\n",
    "        \n",
    "        outputs = model(signal)\n",
    "        loss = criterion(outputs,labels) \n",
    "        \n",
    "        valid_loss += loss.item() * signal.size(0)\n",
    "        scores, predictions = outputs.max(1)\n",
    "        val_correct += (predictions == labels).sum().item()\n",
    "        total += labels.size(0)\n",
    "        \n",
    "    return valid_loss, val_correct"
   ]
  },
  {
   "cell_type": "markdown",
   "id": "a958ffaf",
   "metadata": {},
   "source": [
    "Below you can see the execution of these two functions and the accumulation of the arrangements that will show us the behavior of the cost function and the accuracy"
   ]
  },
  {
   "cell_type": "code",
   "execution_count": 535,
   "id": "b8a2b115",
   "metadata": {
    "scrolled": true
   },
   "outputs": [
    {
     "name": "stdout",
     "output_type": "stream",
     "text": [
      "Epoch:1/100 || Training Loss:1.386 ||Test Loss:1.384 || Training Acc 26.39 % || Test Acc 25.71 %\n",
      "Epoch:2/100 || Training Loss:1.386 ||Test Loss:1.383 || Training Acc 27.20 % || Test Acc 25.71 %\n",
      "Epoch:3/100 || Training Loss:1.386 ||Test Loss:1.384 || Training Acc 26.04 % || Test Acc 25.71 %\n",
      "Epoch:4/100 || Training Loss:1.386 ||Test Loss:1.382 || Training Acc 25.39 % || Test Acc 29.59 %\n",
      "Epoch:5/100 || Training Loss:1.386 ||Test Loss:1.383 || Training Acc 25.86 % || Test Acc 25.71 %\n",
      "Epoch:6/100 || Training Loss:1.386 ||Test Loss:1.384 || Training Acc 26.91 % || Test Acc 25.71 %\n",
      "Epoch:7/100 || Training Loss:1.386 ||Test Loss:1.384 || Training Acc 26.56 % || Test Acc 25.71 %\n",
      "Epoch:8/100 || Training Loss:1.386 ||Test Loss:1.383 || Training Acc 26.97 % || Test Acc 25.71 %\n",
      "Epoch:9/100 || Training Loss:1.386 ||Test Loss:1.384 || Training Acc 26.50 % || Test Acc 25.71 %\n",
      "Epoch:10/100 || Training Loss:1.385 ||Test Loss:1.383 || Training Acc 26.91 % || Test Acc 25.71 %\n",
      "Epoch:11/100 || Training Loss:1.385 ||Test Loss:1.383 || Training Acc 25.86 % || Test Acc 25.71 %\n",
      "Epoch:12/100 || Training Loss:1.385 ||Test Loss:1.382 || Training Acc 26.80 % || Test Acc 25.71 %\n",
      "Epoch:13/100 || Training Loss:1.385 ||Test Loss:1.384 || Training Acc 26.97 % || Test Acc 25.71 %\n",
      "Epoch:14/100 || Training Loss:1.386 ||Test Loss:1.384 || Training Acc 26.85 % || Test Acc 25.71 %\n",
      "Epoch:15/100 || Training Loss:1.385 ||Test Loss:1.383 || Training Acc 26.74 % || Test Acc 25.71 %\n",
      "Epoch:16/100 || Training Loss:1.385 ||Test Loss:1.383 || Training Acc 26.62 % || Test Acc 25.71 %\n",
      "Epoch:17/100 || Training Loss:1.386 ||Test Loss:1.383 || Training Acc 26.50 % || Test Acc 25.71 %\n",
      "Epoch:18/100 || Training Loss:1.386 ||Test Loss:1.384 || Training Acc 26.85 % || Test Acc 25.71 %\n",
      "Epoch:19/100 || Training Loss:1.386 ||Test Loss:1.384 || Training Acc 26.39 % || Test Acc 25.71 %\n",
      "Epoch:20/100 || Training Loss:1.385 ||Test Loss:1.383 || Training Acc 27.03 % || Test Acc 25.71 %\n",
      "Epoch:21/100 || Training Loss:1.385 ||Test Loss:1.384 || Training Acc 26.97 % || Test Acc 25.71 %\n",
      "Epoch:22/100 || Training Loss:1.386 ||Test Loss:1.384 || Training Acc 26.91 % || Test Acc 25.71 %\n",
      "Epoch:23/100 || Training Loss:1.385 ||Test Loss:1.383 || Training Acc 26.80 % || Test Acc 25.71 %\n",
      "Epoch:24/100 || Training Loss:1.386 ||Test Loss:1.384 || Training Acc 27.03 % || Test Acc 25.71 %\n",
      "Epoch:25/100 || Training Loss:1.385 ||Test Loss:1.384 || Training Acc 27.03 % || Test Acc 25.71 %\n",
      "Epoch:26/100 || Training Loss:1.385 ||Test Loss:1.384 || Training Acc 27.03 % || Test Acc 25.71 %\n",
      "Epoch:27/100 || Training Loss:1.385 ||Test Loss:1.384 || Training Acc 26.85 % || Test Acc 25.71 %\n",
      "Epoch:28/100 || Training Loss:1.385 ||Test Loss:1.383 || Training Acc 26.97 % || Test Acc 25.71 %\n",
      "Epoch:29/100 || Training Loss:1.385 ||Test Loss:1.384 || Training Acc 26.85 % || Test Acc 25.71 %\n",
      "Epoch:30/100 || Training Loss:1.386 ||Test Loss:1.383 || Training Acc 26.21 % || Test Acc 25.71 %\n",
      "Epoch:31/100 || Training Loss:1.385 ||Test Loss:1.384 || Training Acc 26.85 % || Test Acc 25.71 %\n",
      "Epoch:32/100 || Training Loss:1.385 ||Test Loss:1.383 || Training Acc 26.91 % || Test Acc 25.71 %\n",
      "Epoch:33/100 || Training Loss:1.385 ||Test Loss:1.384 || Training Acc 26.97 % || Test Acc 25.71 %\n",
      "Epoch:34/100 || Training Loss:1.386 ||Test Loss:1.383 || Training Acc 26.85 % || Test Acc 25.71 %\n",
      "Epoch:35/100 || Training Loss:1.385 ||Test Loss:1.384 || Training Acc 26.91 % || Test Acc 25.71 %\n",
      "Epoch:36/100 || Training Loss:1.385 ||Test Loss:1.383 || Training Acc 26.85 % || Test Acc 25.71 %\n",
      "Epoch:37/100 || Training Loss:1.385 ||Test Loss:1.384 || Training Acc 26.85 % || Test Acc 25.71 %\n",
      "Epoch:38/100 || Training Loss:1.385 ||Test Loss:1.384 || Training Acc 27.09 % || Test Acc 25.71 %\n",
      "Epoch:39/100 || Training Loss:1.385 ||Test Loss:1.383 || Training Acc 26.91 % || Test Acc 25.71 %\n",
      "Epoch:40/100 || Training Loss:1.385 ||Test Loss:1.383 || Training Acc 26.91 % || Test Acc 25.71 %\n",
      "Epoch:41/100 || Training Loss:1.386 ||Test Loss:1.384 || Training Acc 26.91 % || Test Acc 25.71 %\n",
      "Epoch:42/100 || Training Loss:1.385 ||Test Loss:1.383 || Training Acc 26.74 % || Test Acc 25.71 %\n",
      "Epoch:43/100 || Training Loss:1.386 ||Test Loss:1.383 || Training Acc 26.91 % || Test Acc 25.71 %\n",
      "Epoch:44/100 || Training Loss:1.386 ||Test Loss:1.384 || Training Acc 26.91 % || Test Acc 25.71 %\n",
      "Epoch:45/100 || Training Loss:1.385 ||Test Loss:1.383 || Training Acc 26.44 % || Test Acc 25.71 %\n",
      "Epoch:46/100 || Training Loss:1.386 ||Test Loss:1.383 || Training Acc 27.03 % || Test Acc 25.71 %\n",
      "Epoch:47/100 || Training Loss:1.385 ||Test Loss:1.384 || Training Acc 26.85 % || Test Acc 25.71 %\n",
      "Epoch:48/100 || Training Loss:1.385 ||Test Loss:1.384 || Training Acc 26.91 % || Test Acc 25.71 %\n",
      "Epoch:49/100 || Training Loss:1.386 ||Test Loss:1.383 || Training Acc 26.74 % || Test Acc 25.71 %\n",
      "Epoch:50/100 || Training Loss:1.385 ||Test Loss:1.384 || Training Acc 26.91 % || Test Acc 25.71 %\n",
      "Epoch:51/100 || Training Loss:1.385 ||Test Loss:1.384 || Training Acc 26.91 % || Test Acc 25.71 %\n",
      "Epoch:52/100 || Training Loss:1.385 ||Test Loss:1.384 || Training Acc 26.91 % || Test Acc 25.71 %\n",
      "Epoch:53/100 || Training Loss:1.385 ||Test Loss:1.383 || Training Acc 26.44 % || Test Acc 25.71 %\n",
      "Epoch:54/100 || Training Loss:1.386 ||Test Loss:1.383 || Training Acc 27.03 % || Test Acc 25.71 %\n",
      "Epoch:55/100 || Training Loss:1.385 ||Test Loss:1.384 || Training Acc 26.91 % || Test Acc 25.71 %\n",
      "Epoch:56/100 || Training Loss:1.385 ||Test Loss:1.383 || Training Acc 26.97 % || Test Acc 25.71 %\n",
      "Epoch:57/100 || Training Loss:1.385 ||Test Loss:1.384 || Training Acc 26.91 % || Test Acc 25.71 %\n",
      "Epoch:58/100 || Training Loss:1.385 ||Test Loss:1.384 || Training Acc 26.91 % || Test Acc 25.71 %\n",
      "Epoch:59/100 || Training Loss:1.385 ||Test Loss:1.384 || Training Acc 26.97 % || Test Acc 25.71 %\n",
      "Epoch:60/100 || Training Loss:1.385 ||Test Loss:1.384 || Training Acc 26.91 % || Test Acc 25.71 %\n",
      "Epoch:61/100 || Training Loss:1.386 ||Test Loss:1.383 || Training Acc 26.91 % || Test Acc 25.71 %\n",
      "Epoch:62/100 || Training Loss:1.385 ||Test Loss:1.383 || Training Acc 26.85 % || Test Acc 25.71 %\n",
      "Epoch:63/100 || Training Loss:1.385 ||Test Loss:1.383 || Training Acc 26.85 % || Test Acc 25.71 %\n",
      "Epoch:64/100 || Training Loss:1.385 ||Test Loss:1.383 || Training Acc 26.91 % || Test Acc 25.71 %\n",
      "Epoch:65/100 || Training Loss:1.385 ||Test Loss:1.383 || Training Acc 26.97 % || Test Acc 25.71 %\n",
      "Epoch:66/100 || Training Loss:1.385 ||Test Loss:1.384 || Training Acc 26.91 % || Test Acc 25.71 %\n",
      "Epoch:67/100 || Training Loss:1.385 ||Test Loss:1.384 || Training Acc 26.91 % || Test Acc 25.71 %\n",
      "Epoch:68/100 || Training Loss:1.385 ||Test Loss:1.383 || Training Acc 26.97 % || Test Acc 25.71 %\n",
      "Epoch:69/100 || Training Loss:1.385 ||Test Loss:1.383 || Training Acc 27.20 % || Test Acc 25.71 %\n",
      "Epoch:70/100 || Training Loss:1.385 ||Test Loss:1.383 || Training Acc 26.85 % || Test Acc 25.71 %\n",
      "Epoch:71/100 || Training Loss:1.386 ||Test Loss:1.384 || Training Acc 26.91 % || Test Acc 25.71 %\n",
      "Epoch:72/100 || Training Loss:1.385 ||Test Loss:1.383 || Training Acc 26.91 % || Test Acc 25.71 %\n",
      "Epoch:73/100 || Training Loss:1.385 ||Test Loss:1.383 || Training Acc 26.91 % || Test Acc 25.71 %\n",
      "Epoch:74/100 || Training Loss:1.385 ||Test Loss:1.383 || Training Acc 26.74 % || Test Acc 25.71 %\n",
      "Epoch:75/100 || Training Loss:1.385 ||Test Loss:1.383 || Training Acc 26.85 % || Test Acc 25.71 %\n",
      "Epoch:76/100 || Training Loss:1.385 ||Test Loss:1.384 || Training Acc 26.91 % || Test Acc 25.71 %\n",
      "Epoch:77/100 || Training Loss:1.385 ||Test Loss:1.384 || Training Acc 26.91 % || Test Acc 25.71 %\n",
      "Epoch:78/100 || Training Loss:1.385 ||Test Loss:1.383 || Training Acc 26.91 % || Test Acc 25.71 %\n",
      "Epoch:79/100 || Training Loss:1.385 ||Test Loss:1.383 || Training Acc 26.91 % || Test Acc 25.71 %\n",
      "Epoch:80/100 || Training Loss:1.385 ||Test Loss:1.383 || Training Acc 26.74 % || Test Acc 25.71 %\n",
      "Epoch:81/100 || Training Loss:1.385 ||Test Loss:1.384 || Training Acc 26.91 % || Test Acc 25.71 %\n",
      "Epoch:82/100 || Training Loss:1.386 ||Test Loss:1.383 || Training Acc 26.91 % || Test Acc 25.71 %\n",
      "Epoch:83/100 || Training Loss:1.386 ||Test Loss:1.384 || Training Acc 26.91 % || Test Acc 25.71 %\n",
      "Epoch:84/100 || Training Loss:1.385 ||Test Loss:1.383 || Training Acc 26.91 % || Test Acc 25.71 %\n",
      "Epoch:85/100 || Training Loss:1.385 ||Test Loss:1.383 || Training Acc 26.74 % || Test Acc 25.71 %\n"
     ]
    },
    {
     "name": "stdout",
     "output_type": "stream",
     "text": [
      "Epoch:86/100 || Training Loss:1.385 ||Test Loss:1.384 || Training Acc 26.91 % || Test Acc 25.71 %\n",
      "Epoch:87/100 || Training Loss:1.385 ||Test Loss:1.384 || Training Acc 26.91 % || Test Acc 25.71 %\n",
      "Epoch:88/100 || Training Loss:1.385 ||Test Loss:1.384 || Training Acc 26.85 % || Test Acc 25.71 %\n",
      "Epoch:89/100 || Training Loss:1.385 ||Test Loss:1.383 || Training Acc 26.85 % || Test Acc 25.71 %\n",
      "Epoch:90/100 || Training Loss:1.385 ||Test Loss:1.384 || Training Acc 26.91 % || Test Acc 25.71 %\n",
      "Epoch:91/100 || Training Loss:1.385 ||Test Loss:1.384 || Training Acc 26.91 % || Test Acc 25.71 %\n",
      "Epoch:92/100 || Training Loss:1.385 ||Test Loss:1.383 || Training Acc 26.91 % || Test Acc 25.71 %\n",
      "Epoch:93/100 || Training Loss:1.385 ||Test Loss:1.383 || Training Acc 26.91 % || Test Acc 25.71 %\n",
      "Epoch:94/100 || Training Loss:1.385 ||Test Loss:1.383 || Training Acc 26.91 % || Test Acc 25.71 %\n",
      "Epoch:95/100 || Training Loss:1.385 ||Test Loss:1.384 || Training Acc 26.91 % || Test Acc 25.71 %\n",
      "Epoch:96/100 || Training Loss:1.385 ||Test Loss:1.384 || Training Acc 26.91 % || Test Acc 25.71 %\n",
      "Epoch:97/100 || Training Loss:1.385 ||Test Loss:1.383 || Training Acc 26.85 % || Test Acc 25.71 %\n",
      "Epoch:98/100 || Training Loss:1.385 ||Test Loss:1.383 || Training Acc 26.74 % || Test Acc 25.71 %\n",
      "Epoch:99/100 || Training Loss:1.386 ||Test Loss:1.383 || Training Acc 26.91 % || Test Acc 25.71 %\n",
      "Epoch:100/100 || Training Loss:1.385 ||Test Loss:1.383 || Training Acc 26.85 % || Test Acc 25.71 %\n"
     ]
    }
   ],
   "source": [
    "# Train the model\n",
    "\n",
    "# Small dataset to train\n",
    "# X_train,  y_train = X_train[:10],  y_train[:10]\n",
    "# num_epochs  = 5\n",
    "history = {\"loss\": [], \"acc\": [], \"val_loss\": [], \"val_acc\": []}\n",
    "\n",
    "for epoch in range(num_epochs):\n",
    "    train_loss, train_correct = train_epoch(model, device, train_loader, criterion, optimizer)\n",
    "    val_loss, val_correct = valid_epoch(model, device, val_loader, criterion)\n",
    "\n",
    "    train_loss = train_loss / len(train_loader.sampler)\n",
    "    train_acc = train_correct / len(train_loader.sampler) * 100\n",
    "    val_loss = val_loss / len(val_loader.sampler)\n",
    "    val_acc = val_correct / len(val_loader.sampler) * 100\n",
    "    \n",
    "    print(\"Epoch:{}/{} || Training Loss:{:.3f} ||Test Loss:{:.3f} || Training Acc {:.2f} % || Test Acc {:.2f} %\".format(epoch + 1,\n",
    "                                                                                                             num_epochs,\n",
    "                                                                                                             train_loss,\n",
    "                                                                                                             val_loss,\n",
    "                                                                                                             train_acc,\n",
    "                                                                                                         val_acc))\n",
    "    history['loss'].append(train_loss)\n",
    "    history['val_loss'].append(val_loss)\n",
    "    history['acc'].append(train_acc)\n",
    "    history['val_acc'].append(val_acc)\n",
    "    "
   ]
  },
  {
   "cell_type": "markdown",
   "id": "4e3c1480",
   "metadata": {},
   "source": [
    "In order to see graphically the development of the optimization 2 function to plot the accuracy in the validation dataset and the losses in train and validation were created"
   ]
  },
  {
   "cell_type": "code",
   "execution_count": 536,
   "id": "d2adbe57",
   "metadata": {},
   "outputs": [
    {
     "data": {
      "image/png": "[encoded data removed]",
      "text/plain": [
       "<Figure size 792x432 with 1 Axes>"
      ]
     },
     "metadata": {
      "needs_background": "light"
     },
     "output_type": "display_data"
    }
   ],
   "source": [
    "def plot_accuracies(history):\n",
    "    \"\"\"\n",
    "     Plot the val accuracy in each epoch\n",
    "    Args:\n",
    "        history (Dictionary of np array): accumulative diccionary with train and val losses and accuracies\n",
    "    Returns:\n",
    "        None\n",
    "    \"\"\"\n",
    "    plt.rcParams['figure.figsize']=[11,6]\n",
    "    plt.rcParams.update({'font.size': 15})\n",
    "\n",
    "    plt.plot(history['val_acc'], '-x')\n",
    "    plt.xlabel('epoch')\n",
    "    plt.ylabel('accuracy')\n",
    "    plt.title('Accuracy vs. No. of epochs');\n",
    "\n",
    "plot_accuracies(history)\n"
   ]
  },
  {
   "cell_type": "code",
   "execution_count": 537,
   "id": "3193c903",
   "metadata": {},
   "outputs": [
    {
     "data": {
      "image/png": "[encoded data removed]",
      "text/plain": [
       "<Figure size 792x432 with 1 Axes>"
      ]
     },
     "metadata": {
      "needs_background": "light"
     },
     "output_type": "display_data"
    }
   ],
   "source": [
    "\n",
    "def plot_losses(history):\n",
    "    \"\"\"\n",
    "     Plot the train and val losses in each epoch\n",
    "    Args:\n",
    "        history (Dictionary of np array): accumulative diccionary with train and val losses, and accuracies\n",
    "    Returns:\n",
    "        None\n",
    "    \"\"\"\n",
    "    plt.rcParams['figure.figsize']=[11,6]\n",
    "    plt.rcParams.update({'font.size': 15})\n",
    "    \n",
    "    plt.plot(history['loss'], '-bx')\n",
    "    plt.plot(history['val_loss'],  '-rx')\n",
    "\n",
    "    plt.xlabel('epoch')\n",
    "    plt.ylabel('loss')\n",
    "    plt.legend(['Training', 'Validation'])\n",
    "    plt.title('Loss vs. No. of epochs');\n",
    "\n",
    "plot_losses(history)"
   ]
  },
  {
   "cell_type": "markdown",
   "id": "0ea41ee4",
   "metadata": {},
   "source": [
    "Finally the model will be test on the test dataset. Don not run until the end"
   ]
  },
  {
   "cell_type": "code",
   "execution_count": null,
   "id": "fc839ce5",
   "metadata": {},
   "outputs": [],
   "source": [
    "# Test model\n",
    "# for epoch in range(num_epochs):\n",
    "#     test_loss, test_correct = valid_epoch(model, device, test_loader, criterion)\n",
    "\n",
    "#     test_loss = val_loss / len(val_loader.sampler)\n",
    "#     test_acc = test_correct / len(val_loader.sampler) * 100\n",
    "    \n",
    "#     print(\"Epoch:{}/{} || Test Loss:{:.3f} ||Test Acc {:.2f} % \".format(epoch + 1, test_loss,test_acc) \n",
    "\n"
   ]
  },
  {
   "cell_type": "markdown",
   "id": "0830d47d",
   "metadata": {},
   "source": [
    "# 4. Report / Conclusions\n",
    "\n",
    "- Solution Implemented\n",
    "    - The accuracy of the CNN result was : 25.71 %\n",
    "    - 1D approach was developed\n",
    "    - Model was build with layers:\n",
    "        - ReLU(Conv) + MaxPool \n",
    "    - The Dropout was implemented but due to the underfit model, it is not a good idea. We want to make the model more complex \n",
    "   \n",
    " - Conclusions\n",
    "     - The model need to be improved because is a underfit model (See the losses graph, the validation curve is under the training curve and the accuracy is constant, no change):\n",
    "    - The network need to be more complex\n",
    "    - The 1 dimension approach could be changed by a 2D apporach and analyze the signal similas as images\n",
    "    - Some studies suggest Multi-layer CNNs, important to explore\n",
    "    - Data Augmentation (Create more data with Noise)\n",
    "    - Try to run the model with the data without processing\n",
    " \n",
    "    - For this specific case the precision and the accuracy are the metrics more relevant\n",
    "    - The analysis done with the whole signal without shortening from -0.15s until 1.8 must be explored\n",
    "    - Removal of artifact should be consider in a future stage of the improvement of the solution\n",
    "\n",
    "- Challenges faced\n",
    "    - Getting familiar with the format of the data\n",
    "    - Tunning the model was a long process. I first start with small layers and increased gradually. Without a lot of sucess\n",
    "    - The test dataset was not used because of hte low score at the val dataset\n",
    "    - I need more time :)\n"
   ]
  },
  {
   "cell_type": "markdown",
   "id": "431194a1",
   "metadata": {},
   "source": [
    "Thanks"
   ]
  }
 ],
 "metadata": {
  "kernelspec": {
   "display_name": "Python 3",
   "language": "python",
   "name": "python3"
  },
  "language_info": {
   "codemirror_mode": {
    "name": "ipython",
    "version": 3
   },
   "file_extension": ".py",
   "mimetype": "text/x-python",
   "name": "python",
   "nbconvert_exporter": "python",
   "pygments_lexer": "ipython3",
   "version": "3.9.7"
  }
 },
 "nbformat": 4,
 "nbformat_minor": 5
}
